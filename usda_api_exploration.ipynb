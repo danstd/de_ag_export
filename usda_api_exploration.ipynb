{
 "cells": [
  {
   "cell_type": "code",
   "execution_count": 1,
   "id": "dc76ecc5",
   "metadata": {},
   "outputs": [],
   "source": [
    "import pandas as pd\n",
    "import requests\n",
    "import json"
   ]
  },
  {
   "cell_type": "code",
   "execution_count": 21,
   "id": "738aac7e",
   "metadata": {},
   "outputs": [],
   "source": [
    "urls = {\n",
    "    \"commodities\": \"https://apps.fas.usda.gov/OpenData/api/esr/commodities\",\n",
    "    \"units\": \"https://apps.fas.usda.gov/OpenData/api/esr/unitsOfMeasure\",\n",
    "    \"regions\": \"https://apps.fas.usda.gov/OpenData/api/esr/regions\",\n",
    "    \"countries\": \"https://apps.fas.usda.gov/OpenData/api/esr/countries\"\n",
    "       }"
   ]
  },
  {
   "cell_type": "code",
   "execution_count": 4,
   "id": "a94973c1",
   "metadata": {},
   "outputs": [],
   "source": [
    "key = open(\"usda_api_key.txt\", \"r\").readlines()[0]\n",
    "\n",
    "headers = {\"API_KEY\": key,\n",
    "          \"Accept\": \"application/json\"}"
   ]
  },
  {
   "cell_type": "code",
   "execution_count": 7,
   "id": "32b84c8c",
   "metadata": {},
   "outputs": [],
   "source": [
    "commodities = requests.get(commodities_url, headers=headers)\n",
    "commodities = json.loads(commodities.text)"
   ]
  },
  {
   "cell_type": "code",
   "execution_count": 22,
   "id": "2a619d3d",
   "metadata": {},
   "outputs": [],
   "source": [
    "json_dict = dict()\n",
    "\n",
    "for k, v in urls.items():\n",
    "    json_dict[k] = json.loads(requests.get(v, headers=headers).text)"
   ]
  },
  {
   "cell_type": "code",
   "execution_count": 24,
   "id": "118e626b",
   "metadata": {},
   "outputs": [
    {
     "data": {
      "text/plain": [
       "dict_keys(['commodities', 'units', 'regions', 'countries'])"
      ]
     },
     "execution_count": 24,
     "metadata": {},
     "output_type": "execute_result"
    }
   ],
   "source": [
    "json_dict.keys()"
   ]
  },
  {
   "cell_type": "code",
   "execution_count": 25,
   "id": "4cb19e0a",
   "metadata": {},
   "outputs": [],
   "source": [
    "data_release_url = \"https://apps.fas.usda.gov/OpenData/api/esr/datareleasedates\"\n",
    "dr = requests.get(data_release_url, headers=headers)"
   ]
  },
  {
   "cell_type": "code",
   "execution_count": 33,
   "id": "717d777b",
   "metadata": {},
   "outputs": [],
   "source": [
    "market_url = \"https://apps.fas.usda.gov/OpenData/api/esr/exports/commodityCode/801/allCountries/marketYear/2023\"\n",
    "\n",
    "market = requests.get(market_url, headers=headers)"
   ]
  },
  {
   "cell_type": "code",
   "execution_count": 38,
   "id": "2f9bfd81",
   "metadata": {},
   "outputs": [],
   "source": [
    "market_json = json.loads(market.content)"
   ]
  },
  {
   "cell_type": "code",
   "execution_count": 51,
   "id": "417ab874",
   "metadata": {},
   "outputs": [],
   "source": [
    "for k, v in json_dict.items():\n",
    "    with open(f\"{k}.json\", \"w\") as w:\n",
    "        w.write(json.dumps(v, indent=4))   "
   ]
  }
 ],
 "metadata": {
  "kernelspec": {
   "display_name": "Python 3 (ipykernel)",
   "language": "python",
   "name": "python3"
  },
  "language_info": {
   "codemirror_mode": {
    "name": "ipython",
    "version": 3
   },
   "file_extension": ".py",
   "mimetype": "text/x-python",
   "name": "python",
   "nbconvert_exporter": "python",
   "pygments_lexer": "ipython3",
   "version": "3.10.10"
  }
 },
 "nbformat": 4,
 "nbformat_minor": 5
}
