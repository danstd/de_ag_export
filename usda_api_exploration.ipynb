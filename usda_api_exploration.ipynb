{
 "cells": [
  {
   "cell_type": "code",
   "execution_count": 1,
   "id": "dc76ecc5",
   "metadata": {},
   "outputs": [],
   "source": [
    "\n",
    "import os\n",
    "import pandas as pd\n",
    "import requests\n",
    "import json"
   ]
  },
  {
   "cell_type": "code",
   "execution_count": null,
   "id": "738aac7e",
   "metadata": {},
   "outputs": [],
   "source": [
    "urls = {\n",
    "    \"commodities\": \"https://apps.fas.usda.gov/OpenData/api/esr/commodities\",\n",
    "    \"units\": \"https://apps.fas.usda.gov/OpenData/api/esr/unitsOfMeasure\",\n",
    "    \"regions\": \"https://apps.fas.usda.gov/OpenData/api/esr/regions\",\n",
    "    \"countries\": \"https://apps.fas.usda.gov/OpenData/api/esr/countries\"\n",
    "       }"
   ]
  },
  {
   "cell_type": "code",
   "execution_count": 18,
   "id": "a94973c1",
   "metadata": {},
   "outputs": [],
   "source": [
    "key = os.getenv(\"usda_api_key\")\n",
    "headers = {\"API_KEY\": key,\n",
    "          \"Accept\": \"application/json\"}"
   ]
  },
  {
   "cell_type": "code",
   "execution_count": null,
   "id": "32b84c8c",
   "metadata": {},
   "outputs": [],
   "source": [
    "commodities = requests.get(commodities_url, headers=headers)\n",
    "commodities = json.loads(commodities.text)"
   ]
  },
  {
   "cell_type": "code",
   "execution_count": null,
   "id": "2a619d3d",
   "metadata": {},
   "outputs": [],
   "source": [
    "json_dict = dict()\n",
    "\n",
    "for k, v in urls.items():\n",
    "    json_dict[k] = json.loads(requests.get(v, headers=headers).text)"
   ]
  },
  {
   "cell_type": "code",
   "execution_count": null,
   "id": "118e626b",
   "metadata": {},
   "outputs": [],
   "source": [
    "json_dict.keys()"
   ]
  },
  {
   "cell_type": "code",
   "execution_count": 4,
   "id": "4cb19e0a",
   "metadata": {},
   "outputs": [],
   "source": [
    "data_release_url = \"https://apps.fas.usda.gov/OpenData/api/esr/datareleasedates\"\n",
    "dr = requests.get(data_release_url, headers=headers)"
   ]
  },
  {
   "cell_type": "code",
   "execution_count": null,
   "id": "717d777b",
   "metadata": {},
   "outputs": [],
   "source": [
    "market_url = \"https://apps.fas.usda.gov/OpenData/api/esr/exports/commodityCode/801/allCountries/marketYear/2023\"\n",
    "\n",
    "market = requests.get(market_url, headers=headers)"
   ]
  },
  {
   "cell_type": "code",
   "execution_count": null,
   "id": "2f9bfd81",
   "metadata": {},
   "outputs": [],
   "source": [
    "market_json = json.loads(market.content)"
   ]
  },
  {
   "cell_type": "code",
   "execution_count": null,
   "id": "417ab874",
   "metadata": {},
   "outputs": [],
   "source": [
    "for k, v in json_dict.items():\n",
    "    with open(f\"{k}.json\", \"w\") as w:\n",
    "        w.write(json.dumps(v, indent=4))   "
   ]
  },
  {
   "cell_type": "code",
   "execution_count": 9,
   "id": "72d71176",
   "metadata": {},
   "outputs": [],
   "source": [
    "data_release = json.loads(dr.text)\n",
    "\n",
    "with open(\"data_release_dates.json\", \"w\") as w:\n",
    "        w.write(json.dumps(data_release, indent=4))   "
   ]
  },
  {
   "cell_type": "code",
   "execution_count": 14,
   "id": "39d83392",
   "metadata": {},
   "outputs": [],
   "source": [
    "drd = pd.read_json(\"data_release_dates.json\")"
   ]
  },
  {
   "cell_type": "code",
   "execution_count": 15,
   "id": "e791d228",
   "metadata": {},
   "outputs": [],
   "source": [
    "#drd[\"releaseTimeStamp\"] = drd[\"releaseTimeStamp\"].str.replace(\"T\", \" \", regex=False)\n",
    "\n",
    "date_cols=[\"marketYearStart\", \"marketYearEnd\", \"releaseTimeStamp\"]\n",
    "for col in date_cols:\n",
    "    drd[col] = pd.to_datetime(drd[col], format=\"%Y-%m-%dT%H:%M:%S\")"
   ]
  },
  {
   "cell_type": "code",
   "execution_count": 17,
   "id": "46917665",
   "metadata": {},
   "outputs": [
    {
     "data": {
      "text/html": [
       "<div>\n",
       "<style scoped>\n",
       "    .dataframe tbody tr th:only-of-type {\n",
       "        vertical-align: middle;\n",
       "    }\n",
       "\n",
       "    .dataframe tbody tr th {\n",
       "        vertical-align: top;\n",
       "    }\n",
       "\n",
       "    .dataframe thead th {\n",
       "        text-align: right;\n",
       "    }\n",
       "</style>\n",
       "<table border=\"1\" class=\"dataframe\">\n",
       "  <thead>\n",
       "    <tr style=\"text-align: right;\">\n",
       "      <th></th>\n",
       "      <th>commodityCode</th>\n",
       "      <th>marketYear</th>\n",
       "    </tr>\n",
       "  </thead>\n",
       "  <tbody>\n",
       "    <tr>\n",
       "      <th>0</th>\n",
       "      <td>101</td>\n",
       "      <td>2023</td>\n",
       "    </tr>\n",
       "    <tr>\n",
       "      <th>1</th>\n",
       "      <td>102</td>\n",
       "      <td>2023</td>\n",
       "    </tr>\n",
       "    <tr>\n",
       "      <th>2</th>\n",
       "      <td>103</td>\n",
       "      <td>2023</td>\n",
       "    </tr>\n",
       "    <tr>\n",
       "      <th>3</th>\n",
       "      <td>104</td>\n",
       "      <td>2023</td>\n",
       "    </tr>\n",
       "    <tr>\n",
       "      <th>4</th>\n",
       "      <td>105</td>\n",
       "      <td>2023</td>\n",
       "    </tr>\n",
       "    <tr>\n",
       "      <th>...</th>\n",
       "      <td>...</td>\n",
       "      <td>...</td>\n",
       "    </tr>\n",
       "    <tr>\n",
       "      <th>1028</th>\n",
       "      <td>1602</td>\n",
       "      <td>1998</td>\n",
       "    </tr>\n",
       "    <tr>\n",
       "      <th>1029</th>\n",
       "      <td>1603</td>\n",
       "      <td>1998</td>\n",
       "    </tr>\n",
       "    <tr>\n",
       "      <th>1030</th>\n",
       "      <td>1606</td>\n",
       "      <td>1998</td>\n",
       "    </tr>\n",
       "    <tr>\n",
       "      <th>1031</th>\n",
       "      <td>1607</td>\n",
       "      <td>1998</td>\n",
       "    </tr>\n",
       "    <tr>\n",
       "      <th>1032</th>\n",
       "      <td>1608</td>\n",
       "      <td>1998</td>\n",
       "    </tr>\n",
       "  </tbody>\n",
       "</table>\n",
       "<p>1033 rows × 2 columns</p>\n",
       "</div>"
      ],
      "text/plain": [
       "      commodityCode  marketYear\n",
       "0               101        2023\n",
       "1               102        2023\n",
       "2               103        2023\n",
       "3               104        2023\n",
       "4               105        2023\n",
       "...             ...         ...\n",
       "1028           1602        1998\n",
       "1029           1603        1998\n",
       "1030           1606        1998\n",
       "1031           1607        1998\n",
       "1032           1608        1998\n",
       "\n",
       "[1033 rows x 2 columns]"
      ]
     },
     "execution_count": 17,
     "metadata": {},
     "output_type": "execute_result"
    }
   ],
   "source": [
    "drd[[\"commodityCode\", \"marketYear\"]].drop_duplicates()"
   ]
  },
  {
   "cell_type": "code",
   "execution_count": null,
   "id": "beac9022",
   "metadata": {},
   "outputs": [],
   "source": []
  },
  {
   "cell_type": "code",
   "execution_count": 26,
   "id": "4b460de4",
   "metadata": {},
   "outputs": [],
   "source": [
    "from pathlib import Path, PurePosixPath"
   ]
  },
  {
   "cell_type": "code",
   "execution_count": 27,
   "id": "d26b5e0e",
   "metadata": {},
   "outputs": [
    {
     "ename": "NameError",
     "evalue": "name '__file__' is not defined",
     "output_type": "error",
     "traceback": [
      "\u001b[1;31m---------------------------------------------------------------------------\u001b[0m",
      "\u001b[1;31mNameError\u001b[0m                                 Traceback (most recent call last)",
      "Cell \u001b[1;32mIn[27], line 1\u001b[0m\n\u001b[1;32m----> 1\u001b[0m data_path \u001b[38;5;241m=\u001b[39m Path(\u001b[38;5;18;43m__file__\u001b[39;49m)\u001b[38;5;241m.\u001b[39mparent\u001b[38;5;241m.\u001b[39mresolve() \u001b[38;5;241m/\u001b[39m \u001b[38;5;124m\"\u001b[39m\u001b[38;5;124mdata\u001b[39m\u001b[38;5;124m\"\u001b[39m\n",
      "\u001b[1;31mNameError\u001b[0m: name '__file__' is not defined"
     ]
    }
   ],
   "source": [
    "data_path = Path(__file__).parent.resolve() / \"data\""
   ]
  },
  {
   "cell_type": "code",
   "execution_count": 25,
   "id": "f1f8e440",
   "metadata": {},
   "outputs": [
    {
     "name": "stdout",
     "output_type": "stream",
     "text": [
      "https://apps.fas.usda.gov/OpenData/api/esr/exports/commodityCode/101/allCountries/marketYear/2022\n"
     ]
    }
   ],
   "source": [
    "from pathlib import Path, PurePosixPath\n",
    "data_path = Path(__file__).parent.resolve() / \"data\"\n",
    "\n",
    "cc = 101\n",
    "year = 2022\n",
    "url = f\"https://apps.fas.usda.gov/OpenData/api/esr/exports/commodityCode/{cc}/allCountries/marketYear/{year}\"\n",
    "print(url)\n",
    "r = requests.get(url, headers=headers)\n",
    "r_json = json.loads(r.content)\n",
    "    \n",
    "with open(f\"{cc}_{year}.json\", \"w\") as w:\n",
    "    w.write(json.dumps(r_json, indent=4)) "
   ]
  },
  {
   "cell_type": "code",
   "execution_count": 29,
   "id": "f78b0a20",
   "metadata": {},
   "outputs": [
    {
     "name": "stdout",
     "output_type": "stream",
     "text": [
      "https://apps.fas.usda.gov/OpenData/api/esr/exports/commodityCode/101/allCountries/marketYear/2023\n"
     ]
    }
   ],
   "source": [
    "# Specify country\n",
    "# https://apps.fas.usda.gov/OpenData/api/esr/exports/commodityCode/101/countryCode/1/marketYear/2022\n",
    "\n",
    "# All countries\n",
    "# 'https://apps.fas.usda.gov/OpenData/api/esr/exports/commodityCode/101/allCountries/marketYear/2022'\n",
    "\n",
    "# Try with commodity 101\n",
    "data_path = Path(\"C:/Users/daniel/Documents/ag_export_project/de_ag_export/data/\")\n",
    "cc = 101\n",
    "drd_101 = drd.loc[drd[\"commodityCode\"] == cc]\n",
    "for year in drd_101[\"marketYear\"].values:\n",
    "    url = f\"https://apps.fas.usda.gov/OpenData/api/esr/exports/commodityCode/{cc}/allCountries/marketYear/{year}\"\n",
    "    print(url)\n",
    "    r = requests.get(url, headers=headers)\n",
    "    r_json = json.loads(r.content)\n",
    "    \n",
    "    with open(data_path / f\"{cc}_{year}.json\", \"w\") as w:\n",
    "        w.write(json.dumps(r_json, indent=4))   \n",
    "    break"
   ]
  },
  {
   "cell_type": "code",
   "execution_count": 35,
   "id": "f92d66f3",
   "metadata": {},
   "outputs": [
    {
     "data": {
      "text/plain": [
       "{'commodityCode': 101,\n",
       " 'countryCode': 2010,\n",
       " 'weeklyExports': 31539,\n",
       " 'accumulatedExports': 31539,\n",
       " 'outstandingSales': 139595,\n",
       " 'grossNewSales': 92379,\n",
       " 'currentMYNetSales': 2039,\n",
       " 'currentMYTotalCommitment': 171134,\n",
       " 'nextMYOutstandingSales': 0,\n",
       " 'nextMYNetSales': 0,\n",
       " 'unitId': 1,\n",
       " 'weekEndingDate': '2022-06-02T00:00:00'}"
      ]
     },
     "execution_count": 35,
     "metadata": {},
     "output_type": "execute_result"
    }
   ],
   "source": [
    "r_json[0][\"dataReleaseDate\"] "
   ]
  },
  {
   "cell_type": "code",
   "execution_count": 37,
   "id": "6c26bd0b",
   "metadata": {},
   "outputs": [],
   "source": [
    "drd.to_csv(\"previous_data_release_dates.csv\", index=False)"
   ]
  },
  {
   "cell_type": "code",
   "execution_count": 43,
   "id": "775c464e",
   "metadata": {},
   "outputs": [
    {
     "data": {
      "text/html": [
       "<div>\n",
       "<style scoped>\n",
       "    .dataframe tbody tr th:only-of-type {\n",
       "        vertical-align: middle;\n",
       "    }\n",
       "\n",
       "    .dataframe tbody tr th {\n",
       "        vertical-align: top;\n",
       "    }\n",
       "\n",
       "    .dataframe thead th {\n",
       "        text-align: right;\n",
       "    }\n",
       "</style>\n",
       "<table border=\"1\" class=\"dataframe\">\n",
       "  <thead>\n",
       "    <tr style=\"text-align: right;\">\n",
       "      <th></th>\n",
       "      <th>commodityCode</th>\n",
       "      <th>marketYear</th>\n",
       "      <th>releaseTimeStamp</th>\n",
       "    </tr>\n",
       "  </thead>\n",
       "  <tbody>\n",
       "    <tr>\n",
       "      <th>0</th>\n",
       "      <td>101</td>\n",
       "      <td>2023</td>\n",
       "      <td>2023-03-16</td>\n",
       "    </tr>\n",
       "    <tr>\n",
       "      <th>1</th>\n",
       "      <td>102</td>\n",
       "      <td>2023</td>\n",
       "      <td>2023-03-16</td>\n",
       "    </tr>\n",
       "    <tr>\n",
       "      <th>2</th>\n",
       "      <td>103</td>\n",
       "      <td>2023</td>\n",
       "      <td>2023-03-16</td>\n",
       "    </tr>\n",
       "    <tr>\n",
       "      <th>3</th>\n",
       "      <td>104</td>\n",
       "      <td>2023</td>\n",
       "      <td>2023-03-16</td>\n",
       "    </tr>\n",
       "    <tr>\n",
       "      <th>4</th>\n",
       "      <td>105</td>\n",
       "      <td>2023</td>\n",
       "      <td>2023-03-16</td>\n",
       "    </tr>\n",
       "    <tr>\n",
       "      <th>...</th>\n",
       "      <td>...</td>\n",
       "      <td>...</td>\n",
       "      <td>...</td>\n",
       "    </tr>\n",
       "    <tr>\n",
       "      <th>1028</th>\n",
       "      <td>1602</td>\n",
       "      <td>1998</td>\n",
       "      <td>1999-01-07</td>\n",
       "    </tr>\n",
       "    <tr>\n",
       "      <th>1029</th>\n",
       "      <td>1603</td>\n",
       "      <td>1998</td>\n",
       "      <td>1999-01-07</td>\n",
       "    </tr>\n",
       "    <tr>\n",
       "      <th>1030</th>\n",
       "      <td>1606</td>\n",
       "      <td>1998</td>\n",
       "      <td>1999-01-07</td>\n",
       "    </tr>\n",
       "    <tr>\n",
       "      <th>1031</th>\n",
       "      <td>1607</td>\n",
       "      <td>1998</td>\n",
       "      <td>1999-01-07</td>\n",
       "    </tr>\n",
       "    <tr>\n",
       "      <th>1032</th>\n",
       "      <td>1608</td>\n",
       "      <td>1998</td>\n",
       "      <td>1999-01-07</td>\n",
       "    </tr>\n",
       "  </tbody>\n",
       "</table>\n",
       "<p>1033 rows × 3 columns</p>\n",
       "</div>"
      ],
      "text/plain": [
       "      commodityCode  marketYear releaseTimeStamp\n",
       "0               101        2023       2023-03-16\n",
       "1               102        2023       2023-03-16\n",
       "2               103        2023       2023-03-16\n",
       "3               104        2023       2023-03-16\n",
       "4               105        2023       2023-03-16\n",
       "...             ...         ...              ...\n",
       "1028           1602        1998       1999-01-07\n",
       "1029           1603        1998       1999-01-07\n",
       "1030           1606        1998       1999-01-07\n",
       "1031           1607        1998       1999-01-07\n",
       "1032           1608        1998       1999-01-07\n",
       "\n",
       "[1033 rows x 3 columns]"
      ]
     },
     "execution_count": 43,
     "metadata": {},
     "output_type": "execute_result"
    }
   ],
   "source": [
    "pd.read_csv(\"previous_data_release_dates.csv\",\n",
    "           usecols=[\"commodityCode\", \"marketYear\", \"releaseTimeStamp\"],\n",
    "           parse_dates=[\"releaseTimeStamp\"])"
   ]
  }
 ],
 "metadata": {
  "kernelspec": {
   "display_name": "Python 3 (ipykernel)",
   "language": "python",
   "name": "python3"
  },
  "language_info": {
   "codemirror_mode": {
    "name": "ipython",
    "version": 3
   },
   "file_extension": ".py",
   "mimetype": "text/x-python",
   "name": "python",
   "nbconvert_exporter": "python",
   "pygments_lexer": "ipython3",
   "version": "3.10.10"
  }
 },
 "nbformat": 4,
 "nbformat_minor": 5
}
