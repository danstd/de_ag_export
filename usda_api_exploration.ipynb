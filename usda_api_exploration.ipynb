{
 "cells": [
  {
   "cell_type": "code",
   "execution_count": 3,
   "id": "38448d6e",
   "metadata": {},
   "outputs": [
    {
     "name": "stdout",
     "output_type": "stream",
     "text": [
      "create or replace external table `de-z-camp.de_ag.external_commodity_data`\n",
      "options (\n",
      "  format = 'PARQUET',\n",
      "  uris = ['gs://de_ag_export_bucket_0/commodity_*.parquet']\n",
      ");\n"
     ]
    }
   ],
   "source": [
    "with open(\"external_commodity_data_ddl.sql\", \"r\") as r:\n",
    "    print(r.read())"
   ]
  },
  {
   "cell_type": "code",
   "execution_count": 1,
   "id": "dc76ecc5",
   "metadata": {},
   "outputs": [],
   "source": [
    "\n",
    "import os\n",
    "import pandas as pd\n",
    "import requests\n",
    "import json\n",
    "from pathlib import Path\n",
    "import schema_to_pd_dtype"
   ]
  },
  {
   "cell_type": "code",
   "execution_count": null,
   "id": "738aac7e",
   "metadata": {},
   "outputs": [],
   "source": [
    "urls = {\n",
    "    \"commodities\": \"https://apps.fas.usda.gov/OpenData/api/esr/commodities\",\n",
    "    \"units\": \"https://apps.fas.usda.gov/OpenData/api/esr/unitsOfMeasure\",\n",
    "    \"regions\": \"https://apps.fas.usda.gov/OpenData/api/esr/regions\",\n",
    "    \"countries\": \"https://apps.fas.usda.gov/OpenData/api/esr/countries\"\n",
    "       }"
   ]
  },
  {
   "cell_type": "code",
   "execution_count": null,
   "id": "a94973c1",
   "metadata": {},
   "outputs": [],
   "source": [
    "key = os.getenv(\"usda_api_key\")\n",
    "headers = {\"API_KEY\": key,\n",
    "          \"Accept\": \"application/json\"}"
   ]
  },
  {
   "cell_type": "code",
   "execution_count": null,
   "id": "2a619d3d",
   "metadata": {},
   "outputs": [],
   "source": [
    "json_dict = dict()\n",
    "\n",
    "for k, v in urls.items():\n",
    "    json_dict[k] = json.loads(requests.get(v, headers=headers).text)"
   ]
  },
  {
   "cell_type": "code",
   "execution_count": null,
   "id": "0a8c5e14",
   "metadata": {},
   "outputs": [],
   "source": []
  },
  {
   "cell_type": "code",
   "execution_count": null,
   "id": "118e626b",
   "metadata": {},
   "outputs": [],
   "source": [
    "json_dict.keys()"
   ]
  },
  {
   "cell_type": "code",
   "execution_count": null,
   "id": "7a16b561",
   "metadata": {},
   "outputs": [],
   "source": [
    "ref_schema[0]"
   ]
  },
  {
   "cell_type": "code",
   "execution_count": null,
   "id": "5a63a424",
   "metadata": {},
   "outputs": [],
   "source": [
    "\n",
    "ref = pd.DataFrame(columns=list(ref_schema[0].keys()))\n",
    "for col in ref.columns:\n",
    "    if col in ref_schema[1]:\n",
    "        ref[col] = pd.to_datetime(ref[col], format=\"%Y-%m-%dT%H:%M:%S\")\n",
    "    else:\n",
    "        ref[col] = ref[col].astype(ref_schema[0][col])"
   ]
  },
  {
   "cell_type": "code",
   "execution_count": null,
   "id": "27da45dc",
   "metadata": {},
   "outputs": [],
   "source": [
    "from schema_to_pd_dtype import schema_get\n",
    "\n",
    "ref_schema = schema_get(schema=k, file=\"source_schemas.json\")\n",
    "#ref = pd.read_json(json_response, dtype=ref_schema[0])\n",
    "\n",
    "ref = pd.DataFrame(columns=list(ref_schema[0].keys()))\n",
    "for col in ref.columns:\n",
    "    if col in ref_schema[1]:\n",
    "        ref[col] = pd.to_datetime(ref[col], format=\"%Y-%m-%dT%H:%M:%S\")\n",
    "    else:\n",
    "        ref[col] = ref[col].astype(ref_schema[0][col])\n",
    "        \n",
    "ref = pd.concat([ref, pd.DataFrame.from_records(json_dict[k])])"
   ]
  },
  {
   "cell_type": "code",
   "execution_count": null,
   "id": "60260776",
   "metadata": {},
   "outputs": [],
   "source": [
    "ref"
   ]
  },
  {
   "cell_type": "code",
   "execution_count": null,
   "id": "4cb19e0a",
   "metadata": {},
   "outputs": [],
   "source": [
    "data_release_url = \"https://apps.fas.usda.gov/OpenData/api/esr/datareleasedates\"\n",
    "dr = requests.get(data_release_url, headers=headers)"
   ]
  },
  {
   "cell_type": "code",
   "execution_count": null,
   "id": "717d777b",
   "metadata": {},
   "outputs": [],
   "source": [
    "market_url = \"https://apps.fas.usda.gov/OpenData/api/esr/exports/commodityCode/801/allCountries/marketYear/2023\"\n",
    "\n",
    "market = requests.get(market_url, headers=headers)"
   ]
  },
  {
   "cell_type": "code",
   "execution_count": null,
   "id": "2f9bfd81",
   "metadata": {},
   "outputs": [],
   "source": [
    "market_json = json.loads(market.content)"
   ]
  },
  {
   "cell_type": "code",
   "execution_count": null,
   "id": "417ab874",
   "metadata": {},
   "outputs": [],
   "source": [
    "for k, v in json_dict.items():\n",
    "    with open(f\"{k}.json\", \"w\") as w:\n",
    "        w.write(json.dumps(v, indent=4))   "
   ]
  },
  {
   "cell_type": "code",
   "execution_count": null,
   "id": "72d71176",
   "metadata": {},
   "outputs": [],
   "source": [
    "data_release = json.loads(dr.text)\n",
    "\n",
    "with open(\"data_release_dates.json\", \"w\") as w:\n",
    "        w.write(json.dumps(data_release, indent=4))   "
   ]
  },
  {
   "cell_type": "code",
   "execution_count": null,
   "id": "1ea95d2d",
   "metadata": {},
   "outputs": [],
   "source": [
    "drd = pd.read_json(\"data_release_dates.json\")"
   ]
  },
  {
   "cell_type": "code",
   "execution_count": null,
   "id": "93d624d7",
   "metadata": {},
   "outputs": [],
   "source": [
    "#drd[\"releaseTimeStamp\"] = drd[\"releaseTimeStamp\"].str.replace(\"T\", \" \", regex=False)\n",
    "\n",
    "date_cols=[\"marketYearStart\", \"marketYearEnd\", \"releaseTimeStamp\"]\n",
    "for col in date_cols:\n",
    "    drd[col] = pd.to_datetime(drd[col], format=\"%Y-%m-%dT%H:%M:%S\")"
   ]
  },
  {
   "cell_type": "code",
   "execution_count": null,
   "id": "7e57e960",
   "metadata": {},
   "outputs": [],
   "source": [
    "drd[[\"commodityCode\", \"marketYear\"]].drop_duplicates()"
   ]
  },
  {
   "cell_type": "code",
   "execution_count": null,
   "id": "efbae8eb",
   "metadata": {},
   "outputs": [],
   "source": []
  },
  {
   "cell_type": "code",
   "execution_count": null,
   "id": "dbdd63fb",
   "metadata": {},
   "outputs": [],
   "source": [
    "from pathlib import Path, PurePosixPath"
   ]
  },
  {
   "cell_type": "code",
   "execution_count": null,
   "id": "e13a4cb4",
   "metadata": {},
   "outputs": [],
   "source": [
    "data_path = Path(__file__).parent.resolve() / \"data\""
   ]
  },
  {
   "cell_type": "code",
   "execution_count": null,
   "id": "a6291f1e",
   "metadata": {},
   "outputs": [],
   "source": [
    "from pathlib import Path, PurePosixPath\n",
    "data_path = Path(__file__).parent.resolve() / \"data\"\n",
    "\n",
    "cc = 101\n",
    "year = 2022\n",
    "url = f\"https://apps.fas.usda.gov/OpenData/api/esr/exports/commodityCode/{cc}/allCountries/marketYear/{year}\"\n",
    "print(url)\n",
    "r = requests.get(url, headers=headers)\n",
    "r_json = json.loads(r.content)\n",
    "    \n",
    "with open(f\"{cc}_{year}.json\", \"w\") as w:\n",
    "    w.write(json.dumps(r_json, indent=4)) "
   ]
  },
  {
   "cell_type": "code",
   "execution_count": null,
   "id": "cde778f1",
   "metadata": {},
   "outputs": [],
   "source": [
    "# Specify country\n",
    "# https://apps.fas.usda.gov/OpenData/api/esr/exports/commodityCode/101/countryCode/1/marketYear/2022\n",
    "\n",
    "# All countries\n",
    "# 'https://apps.fas.usda.gov/OpenData/api/esr/exports/commodityCode/101/allCountries/marketYear/2022'\n",
    "\n",
    "# Try with commodity 101\n",
    "data_path = Path(\"C:/Users/daniel/Documents/ag_export_project/de_ag_export/data/\")\n",
    "cc = 101\n",
    "drd_101 = drd.loc[drd[\"commodityCode\"] == cc]\n",
    "for year in drd_101[\"marketYear\"].values:\n",
    "    url = f\"https://apps.fas.usda.gov/OpenData/api/esr/exports/commodityCode/{cc}/allCountries/marketYear/{year}\"\n",
    "    print(url)\n",
    "    r = requests.get(url, headers=headers)\n",
    "    r_json = json.loads(r.content)\n",
    "    \n",
    "    with open(data_path / f\"{cc}_{year}.json\", \"w\") as w:\n",
    "        w.write(json.dumps(r_json, indent=4))   \n",
    "    break"
   ]
  },
  {
   "cell_type": "code",
   "execution_count": null,
   "id": "35b4c0ef",
   "metadata": {},
   "outputs": [],
   "source": [
    "r_json[0][\"dataReleaseDate\"] "
   ]
  },
  {
   "cell_type": "code",
   "execution_count": null,
   "id": "10f75460",
   "metadata": {},
   "outputs": [],
   "source": [
    "drd.to_csv(\"previous_data_release_dates.csv\", index=False)"
   ]
  },
  {
   "cell_type": "code",
   "execution_count": null,
   "id": "06bcdc7f",
   "metadata": {},
   "outputs": [],
   "source": [
    "pd.read_csv(\"previous_data_release_dates.csv\",\n",
    "           usecols=[\"commodityCode\", \"marketYear\", \"releaseTimeStamp\"],\n",
    "           parse_dates=[\"releaseTimeStamp\"])"
   ]
  },
  {
   "cell_type": "code",
   "execution_count": 7,
   "id": "254bc0b5",
   "metadata": {},
   "outputs": [],
   "source": [
    "class USDAReader():\n",
    "\n",
    "    def __init__(self):\n",
    "        USDA_API_KEY = os.getenv(\"USDA_API_KEY\")\n",
    "        self.headers = {\"API_KEY\": USDA_API_KEY,\"Accept\": \"application/json\"}\n",
    "\n",
    "    #def read(self, url: str, output_name: str, output_path: Path=None) -> json:\n",
    "    def read(self, url: str) -> json:\n",
    "\n",
    "        #if output_path is None:\n",
    "        #    output_string = f\"{output_name}.json\"\n",
    "        #else:\n",
    "        #    output_string = output_path / f\"{output_name}.json\"\n",
    "\n",
    "        response = requests.get(url, headers=self.headers)\n",
    "        if not response.ok:\n",
    "            print(f\"Bad response for {url}\")\n",
    "            raise ValueError\n",
    "        \n",
    "        #response_txt = json.loads(response.text)\n",
    "        #with open(output_string, \"w\") as w:\n",
    "        #    w.write(json.dumps(response_txt, indent=4)) \n",
    "        response_json = json.loads(response.content)\n",
    "        return response_json\n",
    "\n",
    "    \n",
    "    "
   ]
  },
  {
   "cell_type": "code",
   "execution_count": null,
   "id": "9a5047dc",
   "metadata": {},
   "outputs": [],
   "source": [
    "pd.json_normalize(json_response)"
   ]
  },
  {
   "cell_type": "code",
   "execution_count": 8,
   "id": "240b147a",
   "metadata": {},
   "outputs": [],
   "source": [
    "\n",
    "import io\n",
    "\n",
    "\n",
    "def commodity_data_get(commodity_years: pd.DataFrame) -> None:\n",
    "    #DATA_PATH = Path(__file__).parent.resolve() / \"data\"\n",
    "    DATA_PATH = Path(\"C:/Users/daniel/Documents/ag_export_project/de_ag_export/data/\")\n",
    "    usda_reader = USDAReader()\n",
    "    for index, row in commodity_years.iterrows():\n",
    "        cc = row[\"commodityCode\"]\n",
    "        year = row[\"marketYear\"]\n",
    "        url = f\"https://apps.fas.usda.gov/OpenData/api/esr/exports/commodityCode/{cc}/allCountries/marketYear/{year}\"\n",
    "        json_response = usda_reader.read(url=url)\n",
    "        #commodity = schema_to_pd_dtype.template_df_set(schema=\"commodity_data\", file=\"source_schemas.json\")\n",
    "        #commodity = pd.concat([commodity, pd.DataFrame.from_records(json_response)])\n",
    "        commodity = pd.DataFrame.from_records(json_response)\n",
    "        schema_to_pd_dtype.df_dtype_set(df=commodity, schema=\"commodity_data\", file=\"source_schemas.json\")\n",
    "        commodity.to_parquet(DATA_PATH / f\"commodity_{cc}_{year}.parquet\")\n",
    "    return\n",
    "\n",
    "sample_commodity_years = pd.DataFrame([[101, 2022], [102,2022], [1608, 1998]], columns=[\"commodityCode\", \"marketYear\"])\n",
    "\n",
    "commodity_data_get(sample_commodity_years)"
   ]
  },
  {
   "cell_type": "code",
   "execution_count": 9,
   "id": "9fa7b4cd",
   "metadata": {},
   "outputs": [],
   "source": [
    "DATA_PATH = Path(\"C:/Users/daniel/Documents/ag_export_project/de_ag_export/data/\")\n",
    "\n",
    "df = pd.read_parquet(DATA_PATH / \"commodity_1608_1998.parquet\")"
   ]
  },
  {
   "cell_type": "code",
   "execution_count": 10,
   "id": "30f8a9c2",
   "metadata": {},
   "outputs": [
    {
     "data": {
      "text/plain": [
       "commodityCode                        Int64\n",
       "countryCode                          Int64\n",
       "weeklyExports                      float64\n",
       "accumulatedExports                 float64\n",
       "outstandingSales                   float64\n",
       "grossNewSales                      float64\n",
       "currentMYNetSales                  float64\n",
       "currentMYTotalCommitment           float64\n",
       "nextMYOutstandingSales             float64\n",
       "nextMYNetSales                     float64\n",
       "unitId                               Int64\n",
       "weekEndingDate              datetime64[ns]\n",
       "dtype: object"
      ]
     },
     "execution_count": 10,
     "metadata": {},
     "output_type": "execute_result"
    }
   ],
   "source": [
    "df.dtypes"
   ]
  },
  {
   "cell_type": "code",
   "execution_count": 5,
   "id": "a6ab426d",
   "metadata": {},
   "outputs": [
    {
     "data": {
      "text/plain": [
       "commodityCode                        Int64\n",
       "countryCode                          Int64\n",
       "weeklyExports                      float64\n",
       "accumulatedExports                 float64\n",
       "outstandingSales                   float64\n",
       "grossNewSales                      float64\n",
       "currentMYNetSales                  float64\n",
       "currentMYTotalCommitment           float64\n",
       "nextMYOutstandingSales             float64\n",
       "nextMYNetSales                     float64\n",
       "unitId                               Int64\n",
       "weekEndingDate              datetime64[ns]\n",
       "dtype: object"
      ]
     },
     "execution_count": 5,
     "metadata": {},
     "output_type": "execute_result"
    }
   ],
   "source": [
    "df.dtypes"
   ]
  },
  {
   "cell_type": "code",
   "execution_count": 4,
   "id": "5ae11c4b",
   "metadata": {},
   "outputs": [],
   "source": [
    "schema_to_pd_dtype.df_dtype_set(df=df, schema=\"commodity_data\", file=\"source_schemas.json\")"
   ]
  }
 ],
 "metadata": {
  "kernelspec": {
   "display_name": "Python 3 (ipykernel)",
   "language": "python",
   "name": "python3"
  },
  "language_info": {
   "codemirror_mode": {
    "name": "ipython",
    "version": 3
   },
   "file_extension": ".py",
   "mimetype": "text/x-python",
   "name": "python",
   "nbconvert_exporter": "python",
   "pygments_lexer": "ipython3",
   "version": "3.10.10"
  }
 },
 "nbformat": 4,
 "nbformat_minor": 5
}
