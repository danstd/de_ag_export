{
 "cells": [
  {
   "cell_type": "code",
   "execution_count": 3,
   "id": "38448d6e",
   "metadata": {},
   "outputs": [
    {
     "name": "stdout",
     "output_type": "stream",
     "text": [
      "create or replace external table `de-z-camp.de_ag.external_commodity_data`\n",
      "options (\n",
      "  format = 'PARQUET',\n",
      "  uris = ['gs://de_ag_export_bucket_0/commodity_*.parquet']\n",
      ");\n"
     ]
    }
   ],
   "source": [
    "with open(\"external_commodity_data_ddl.sql\", \"r\") as r:\n",
    "    print(r.read())"
   ]
  },
  {
   "cell_type": "code",
   "execution_count": 1,
   "id": "dc76ecc5",
   "metadata": {},
   "outputs": [],
   "source": [
    "\n",
    "import os\n",
    "import pandas as pd\n",
    "import requests\n",
    "import json\n",
    "from pathlib import Path\n",
    "import schema_to_pd_dtype"
   ]
  },
  {
   "cell_type": "code",
   "execution_count": null,
   "id": "738aac7e",
   "metadata": {},
   "outputs": [],
   "source": [
    "urls = {\n",
    "    \"commodities\": \"https://apps.fas.usda.gov/OpenData/api/esr/commodities\",\n",
    "    \"units\": \"https://apps.fas.usda.gov/OpenData/api/esr/unitsOfMeasure\",\n",
    "    \"regions\": \"https://apps.fas.usda.gov/OpenData/api/esr/regions\",\n",
    "    \"countries\": \"https://apps.fas.usda.gov/OpenData/api/esr/countries\"\n",
    "       }"
   ]
  },
  {
   "cell_type": "code",
   "execution_count": null,
   "id": "a94973c1",
   "metadata": {},
   "outputs": [],
   "source": [
    "key = os.getenv(\"usda_api_key\")\n",
    "headers = {\"API_KEY\": key,\n",
    "          \"Accept\": \"application/json\"}"
   ]
  },
  {
   "cell_type": "code",
   "execution_count": null,
   "id": "2a619d3d",
   "metadata": {},
   "outputs": [],
   "source": [
    "json_dict = dict()\n",
    "\n",
    "for k, v in urls.items():\n",
    "    json_dict[k] = json.loads(requests.get(v, headers=headers).text)"
   ]
  },
  {
   "cell_type": "code",
   "execution_count": null,
   "id": "0a8c5e14",
   "metadata": {},
   "outputs": [],
   "source": []
  },
  {
   "cell_type": "code",
   "execution_count": null,
   "id": "118e626b",
   "metadata": {},
   "outputs": [],
   "source": [
    "json_dict.keys()"
   ]
  },
  {
   "cell_type": "code",
   "execution_count": null,
   "id": "7a16b561",
   "metadata": {},
   "outputs": [],
   "source": [
    "ref_schema[0]"
   ]
  },
  {
   "cell_type": "code",
   "execution_count": null,
   "id": "5a63a424",
   "metadata": {},
   "outputs": [],
   "source": [
    "\n",
    "ref = pd.DataFrame(columns=list(ref_schema[0].keys()))\n",
    "for col in ref.columns:\n",
    "    if col in ref_schema[1]:\n",
    "        ref[col] = pd.to_datetime(ref[col], format=\"%Y-%m-%dT%H:%M:%S\")\n",
    "    else:\n",
    "        ref[col] = ref[col].astype(ref_schema[0][col])"
   ]
  },
  {
   "cell_type": "code",
   "execution_count": null,
   "id": "27da45dc",
   "metadata": {},
   "outputs": [],
   "source": [
    "from schema_to_pd_dtype import schema_get\n",
    "\n",
    "ref_schema = schema_get(schema=k, file=\"source_schemas.json\")\n",
    "#ref = pd.read_json(json_response, dtype=ref_schema[0])\n",
    "\n",
    "ref = pd.DataFrame(columns=list(ref_schema[0].keys()))\n",
    "for col in ref.columns:\n",
    "    if col in ref_schema[1]:\n",
    "        ref[col] = pd.to_datetime(ref[col], format=\"%Y-%m-%dT%H:%M:%S\")\n",
    "    else:\n",
    "        ref[col] = ref[col].astype(ref_schema[0][col])\n",
    "        \n",
    "ref = pd.concat([ref, pd.DataFrame.from_records(json_dict[k])])"
   ]
  },
  {
   "cell_type": "code",
   "execution_count": null,
   "id": "60260776",
   "metadata": {},
   "outputs": [],
   "source": [
    "ref"
   ]
  },
  {
   "cell_type": "code",
   "execution_count": null,
   "id": "4cb19e0a",
   "metadata": {},
   "outputs": [],
   "source": [
    "data_release_url = \"https://apps.fas.usda.gov/OpenData/api/esr/datareleasedates\"\n",
    "dr = requests.get(data_release_url, headers=headers)"
   ]
  },
  {
   "cell_type": "code",
   "execution_count": null,
   "id": "717d777b",
   "metadata": {},
   "outputs": [],
   "source": [
    "market_url = \"https://apps.fas.usda.gov/OpenData/api/esr/exports/commodityCode/801/allCountries/marketYear/2023\"\n",
    "\n",
    "market = requests.get(market_url, headers=headers)"
   ]
  },
  {
   "cell_type": "code",
   "execution_count": null,
   "id": "2f9bfd81",
   "metadata": {},
   "outputs": [],
   "source": [
    "market_json = json.loads(market.content)"
   ]
  },
  {
   "cell_type": "code",
   "execution_count": null,
   "id": "417ab874",
   "metadata": {},
   "outputs": [],
   "source": [
    "for k, v in json_dict.items():\n",
    "    with open(f\"{k}.json\", \"w\") as w:\n",
    "        w.write(json.dumps(v, indent=4))   "
   ]
  },
  {
   "cell_type": "code",
   "execution_count": null,
   "id": "72d71176",
   "metadata": {},
   "outputs": [],
   "source": [
    "data_release = json.loads(dr.text)\n",
    "\n",
    "with open(\"data_release_dates.json\", \"w\") as w:\n",
    "        w.write(json.dumps(data_release, indent=4))   "
   ]
  },
  {
   "cell_type": "code",
   "execution_count": null,
   "id": "1ea95d2d",
   "metadata": {},
   "outputs": [],
   "source": [
    "drd = pd.read_json(\"data_release_dates.json\")"
   ]
  },
  {
   "cell_type": "code",
   "execution_count": null,
   "id": "93d624d7",
   "metadata": {},
   "outputs": [],
   "source": [
    "#drd[\"releaseTimeStamp\"] = drd[\"releaseTimeStamp\"].str.replace(\"T\", \" \", regex=False)\n",
    "\n",
    "date_cols=[\"marketYearStart\", \"marketYearEnd\", \"releaseTimeStamp\"]\n",
    "for col in date_cols:\n",
    "    drd[col] = pd.to_datetime(drd[col], format=\"%Y-%m-%dT%H:%M:%S\")"
   ]
  },
  {
   "cell_type": "code",
   "execution_count": null,
   "id": "7e57e960",
   "metadata": {},
   "outputs": [],
   "source": [
    "drd[[\"commodityCode\", \"marketYear\"]].drop_duplicates()"
   ]
  },
  {
   "cell_type": "code",
   "execution_count": null,
   "id": "efbae8eb",
   "metadata": {},
   "outputs": [],
   "source": []
  },
  {
   "cell_type": "code",
   "execution_count": null,
   "id": "dbdd63fb",
   "metadata": {},
   "outputs": [],
   "source": [
    "from pathlib import Path, PurePosixPath"
   ]
  },
  {
   "cell_type": "code",
   "execution_count": null,
   "id": "e13a4cb4",
   "metadata": {},
   "outputs": [],
   "source": [
    "data_path = Path(__file__).parent.resolve() / \"data\""
   ]
  },
  {
   "cell_type": "code",
   "execution_count": null,
   "id": "a6291f1e",
   "metadata": {},
   "outputs": [],
   "source": [
    "from pathlib import Path, PurePosixPath\n",
    "data_path = Path(__file__).parent.resolve() / \"data\"\n",
    "\n",
    "cc = 101\n",
    "year = 2022\n",
    "url = f\"https://apps.fas.usda.gov/OpenData/api/esr/exports/commodityCode/{cc}/allCountries/marketYear/{year}\"\n",
    "print(url)\n",
    "r = requests.get(url, headers=headers)\n",
    "r_json = json.loads(r.content)\n",
    "    \n",
    "with open(f\"{cc}_{year}.json\", \"w\") as w:\n",
    "    w.write(json.dumps(r_json, indent=4)) "
   ]
  },
  {
   "cell_type": "code",
   "execution_count": null,
   "id": "cde778f1",
   "metadata": {},
   "outputs": [],
   "source": [
    "# Specify country\n",
    "# https://apps.fas.usda.gov/OpenData/api/esr/exports/commodityCode/101/countryCode/1/marketYear/2022\n",
    "\n",
    "# All countries\n",
    "# 'https://apps.fas.usda.gov/OpenData/api/esr/exports/commodityCode/101/allCountries/marketYear/2022'\n",
    "\n",
    "# Try with commodity 101\n",
    "data_path = Path(\"C:/Users/daniel/Documents/ag_export_project/de_ag_export/data/\")\n",
    "cc = 101\n",
    "drd_101 = drd.loc[drd[\"commodityCode\"] == cc]\n",
    "for year in drd_101[\"marketYear\"].values:\n",
    "    url = f\"https://apps.fas.usda.gov/OpenData/api/esr/exports/commodityCode/{cc}/allCountries/marketYear/{year}\"\n",
    "    print(url)\n",
    "    r = requests.get(url, headers=headers)\n",
    "    r_json = json.loads(r.content)\n",
    "    \n",
    "    with open(data_path / f\"{cc}_{year}.json\", \"w\") as w:\n",
    "        w.write(json.dumps(r_json, indent=4))   \n",
    "    break"
   ]
  },
  {
   "cell_type": "code",
   "execution_count": null,
   "id": "35b4c0ef",
   "metadata": {},
   "outputs": [],
   "source": [
    "r_json[0][\"dataReleaseDate\"] "
   ]
  },
  {
   "cell_type": "code",
   "execution_count": null,
   "id": "10f75460",
   "metadata": {},
   "outputs": [],
   "source": [
    "drd.to_csv(\"previous_data_release_dates.csv\", index=False)"
   ]
  },
  {
   "cell_type": "code",
   "execution_count": null,
   "id": "06bcdc7f",
   "metadata": {},
   "outputs": [],
   "source": [
    "pd.read_csv(\"previous_data_release_dates.csv\",\n",
    "           usecols=[\"commodityCode\", \"marketYear\", \"releaseTimeStamp\"],\n",
    "           parse_dates=[\"releaseTimeStamp\"])"
   ]
  },
  {
   "cell_type": "code",
   "execution_count": 7,
   "id": "254bc0b5",
   "metadata": {},
   "outputs": [],
   "source": [
    "class USDAReader():\n",
    "\n",
    "    def __init__(self):\n",
    "        USDA_API_KEY = os.getenv(\"USDA_API_KEY\")\n",
    "        self.headers = {\"API_KEY\": USDA_API_KEY,\"Accept\": \"application/json\"}\n",
    "\n",
    "    #def read(self, url: str, output_name: str, output_path: Path=None) -> json:\n",
    "    def read(self, url: str) -> json:\n",
    "\n",
    "        #if output_path is None:\n",
    "        #    output_string = f\"{output_name}.json\"\n",
    "        #else:\n",
    "        #    output_string = output_path / f\"{output_name}.json\"\n",
    "\n",
    "        response = requests.get(url, headers=self.headers)\n",
    "        if not response.ok:\n",
    "            print(f\"Bad response for {url}\")\n",
    "            raise ValueError\n",
    "        \n",
    "        #response_txt = json.loads(response.text)\n",
    "        #with open(output_string, \"w\") as w:\n",
    "        #    w.write(json.dumps(response_txt, indent=4)) \n",
    "        response_json = json.loads(response.content)\n",
    "        return response_json\n",
    "\n",
    "    \n",
    "    "
   ]
  },
  {
   "cell_type": "code",
   "execution_count": null,
   "id": "9a5047dc",
   "metadata": {},
   "outputs": [],
   "source": [
    "pd.json_normalize(json_response)"
   ]
  },
  {
   "cell_type": "code",
   "execution_count": 8,
   "id": "240b147a",
   "metadata": {},
   "outputs": [],
   "source": [
    "\n",
    "import io\n",
    "\n",
    "\n",
    "def commodity_data_get(commodity_years: pd.DataFrame) -> None:\n",
    "    #DATA_PATH = Path(__file__).parent.resolve() / \"data\"\n",
    "    DATA_PATH = Path(\"C:/Users/daniel/Documents/ag_export_project/de_ag_export/data/\")\n",
    "    usda_reader = USDAReader()\n",
    "    for index, row in commodity_years.iterrows():\n",
    "        cc = row[\"commodityCode\"]\n",
    "        year = row[\"marketYear\"]\n",
    "        url = f\"https://apps.fas.usda.gov/OpenData/api/esr/exports/commodityCode/{cc}/allCountries/marketYear/{year}\"\n",
    "        json_response = usda_reader.read(url=url)\n",
    "        #commodity = schema_to_pd_dtype.template_df_set(schema=\"commodity_data\", file=\"source_schemas.json\")\n",
    "        #commodity = pd.concat([commodity, pd.DataFrame.from_records(json_response)])\n",
    "        commodity = pd.DataFrame.from_records(json_response)\n",
    "        schema_to_pd_dtype.df_dtype_set(df=commodity, schema=\"commodity_data\", file=\"source_schemas.json\")\n",
    "        commodity.to_parquet(DATA_PATH / f\"commodity_{cc}_{year}.parquet\")\n",
    "    return\n",
    "\n",
    "sample_commodity_years = pd.DataFrame([[101, 2022], [102,2022], [1608, 1998]], columns=[\"commodityCode\", \"marketYear\"])\n",
    "\n",
    "commodity_data_get(sample_commodity_years)"
   ]
  },
  {
   "cell_type": "code",
   "execution_count": 9,
   "id": "9fa7b4cd",
   "metadata": {},
   "outputs": [],
   "source": [
    "DATA_PATH = Path(\"C:/Users/daniel/Documents/ag_export_project/de_ag_export/data/\")\n",
    "\n",
    "df = pd.read_parquet(DATA_PATH / \"commodity_1608_1998.parquet\")"
   ]
  },
  {
   "cell_type": "code",
   "execution_count": 10,
   "id": "30f8a9c2",
   "metadata": {},
   "outputs": [
    {
     "data": {
      "text/plain": [
       "commodityCode                        Int64\n",
       "countryCode                          Int64\n",
       "weeklyExports                      float64\n",
       "accumulatedExports                 float64\n",
       "outstandingSales                   float64\n",
       "grossNewSales                      float64\n",
       "currentMYNetSales                  float64\n",
       "currentMYTotalCommitment           float64\n",
       "nextMYOutstandingSales             float64\n",
       "nextMYNetSales                     float64\n",
       "unitId                               Int64\n",
       "weekEndingDate              datetime64[ns]\n",
       "dtype: object"
      ]
     },
     "execution_count": 10,
     "metadata": {},
     "output_type": "execute_result"
    }
   ],
   "source": [
    "df.dtypes"
   ]
  },
  {
   "cell_type": "code",
   "execution_count": 5,
   "id": "a6ab426d",
   "metadata": {},
   "outputs": [
    {
     "data": {
      "text/plain": [
       "commodityCode                        Int64\n",
       "countryCode                          Int64\n",
       "weeklyExports                      float64\n",
       "accumulatedExports                 float64\n",
       "outstandingSales                   float64\n",
       "grossNewSales                      float64\n",
       "currentMYNetSales                  float64\n",
       "currentMYTotalCommitment           float64\n",
       "nextMYOutstandingSales             float64\n",
       "nextMYNetSales                     float64\n",
       "unitId                               Int64\n",
       "weekEndingDate              datetime64[ns]\n",
       "dtype: object"
      ]
     },
     "execution_count": 5,
     "metadata": {},
     "output_type": "execute_result"
    }
   ],
   "source": [
    "df.dtypes"
   ]
  },
  {
   "cell_type": "code",
   "execution_count": 4,
   "id": "5ae11c4b",
   "metadata": {},
   "outputs": [],
   "source": [
    "schema_to_pd_dtype.df_dtype_set(df=df, schema=\"commodity_data\", file=\"source_schemas.json\")"
   ]
  },
  {
   "cell_type": "code",
   "execution_count": 3,
   "id": "2720c94a",
   "metadata": {},
   "outputs": [],
   "source": [
    "def data_release_date() -> pd.DataFrame:\n",
    "    drd = pd.read_json(\"data_release_dates.json\")\n",
    "    used_cols=[\"commodityCode\", \"marketYear\", \"releaseTimeStamp\"]\n",
    "    drd[\"releaseTimeStamp\"] = pd.to_datetime(drd[\"releaseTimeStamp\"], format=\"%Y-%m-%dT%H:%M:%S\")\n",
    "    \n",
    "    # Pull last release date for commodity and year from db for comparison.\n",
    "    try:\n",
    "        p_drd = pd.read_csv(\"previous_data_release_dates.csv\",\n",
    "           usecols=used_cols,\n",
    "           parse_dates=[\"releaseTimeStamp\"])\n",
    "    except FileNotFoundError:\n",
    "        return drd[used_cols]\n",
    "    \n",
    "    p_drd.rename(columns={\"releaseTimeStamp\": \"previousReleaseTimeStamp\"}, inplace=True)\n",
    "    drd = drd.merge(right=p_drd, on=[\"commodityCode\", \"marketYear\"], how=\"outer\")\n",
    "    return drd\n",
    "\n",
    "commodity_years = data_release_date()"
   ]
  },
  {
   "cell_type": "code",
   "execution_count": 7,
   "id": "2cf41bc2",
   "metadata": {},
   "outputs": [
    {
     "data": {
      "text/html": [
       "<div>\n",
       "<style scoped>\n",
       "    .dataframe tbody tr th:only-of-type {\n",
       "        vertical-align: middle;\n",
       "    }\n",
       "\n",
       "    .dataframe tbody tr th {\n",
       "        vertical-align: top;\n",
       "    }\n",
       "\n",
       "    .dataframe thead th {\n",
       "        text-align: right;\n",
       "    }\n",
       "</style>\n",
       "<table border=\"1\" class=\"dataframe\">\n",
       "  <thead>\n",
       "    <tr style=\"text-align: right;\">\n",
       "      <th></th>\n",
       "      <th>commodityCode</th>\n",
       "      <th>marketYear</th>\n",
       "    </tr>\n",
       "  </thead>\n",
       "  <tbody>\n",
       "  </tbody>\n",
       "</table>\n",
       "</div>"
      ],
      "text/plain": [
       "Empty DataFrame\n",
       "Columns: [commodityCode, marketYear]\n",
       "Index: []"
      ]
     },
     "execution_count": 7,
     "metadata": {},
     "output_type": "execute_result"
    }
   ],
   "source": [
    "commodity_years.loc[\n",
    "        (~commodity_years[\"releaseTimeStamp\"].isna()) &\n",
    "        (commodity_years[\"releaseTimeStamp\"] != commodity_years[\"previousReleaseTimeStamp\"]),\n",
    "        [\"commodityCode\", \"marketYear\"]]"
   ]
  },
  {
   "cell_type": "code",
   "execution_count": 9,
   "id": "ed831ff3",
   "metadata": {},
   "outputs": [],
   "source": [
    "DATA_PATH = Path(\"C:/Users/daniel/Documents/ag_export_project/de_ag_export/data/\")\n",
    "files = Path(DATA_PATH).glob(\"commodity_*.parquet\")\n",
    "for file in files:\n",
    "    os.remove(file)"
   ]
  },
  {
   "cell_type": "code",
   "execution_count": 2,
   "id": "c0aa6a4b",
   "metadata": {
    "scrolled": true
   },
   "outputs": [
    {
     "data": {
      "text/html": [
       "<div>\n",
       "<style scoped>\n",
       "    .dataframe tbody tr th:only-of-type {\n",
       "        vertical-align: middle;\n",
       "    }\n",
       "\n",
       "    .dataframe tbody tr th {\n",
       "        vertical-align: top;\n",
       "    }\n",
       "\n",
       "    .dataframe thead th {\n",
       "        text-align: right;\n",
       "    }\n",
       "</style>\n",
       "<table border=\"1\" class=\"dataframe\">\n",
       "  <thead>\n",
       "    <tr style=\"text-align: right;\">\n",
       "      <th></th>\n",
       "      <th>commodityCode</th>\n",
       "      <th>commodityName</th>\n",
       "      <th>unitId</th>\n",
       "    </tr>\n",
       "  </thead>\n",
       "  <tbody>\n",
       "    <tr>\n",
       "      <th>0</th>\n",
       "      <td>101</td>\n",
       "      <td>Wheat - HRW</td>\n",
       "      <td>1</td>\n",
       "    </tr>\n",
       "    <tr>\n",
       "      <th>1</th>\n",
       "      <td>102</td>\n",
       "      <td>Wheat - SRW</td>\n",
       "      <td>1</td>\n",
       "    </tr>\n",
       "    <tr>\n",
       "      <th>2</th>\n",
       "      <td>103</td>\n",
       "      <td>Wheat - HRS</td>\n",
       "      <td>1</td>\n",
       "    </tr>\n",
       "    <tr>\n",
       "      <th>3</th>\n",
       "      <td>104</td>\n",
       "      <td>Wheat - White</td>\n",
       "      <td>1</td>\n",
       "    </tr>\n",
       "    <tr>\n",
       "      <th>4</th>\n",
       "      <td>105</td>\n",
       "      <td>Wheat - Durum</td>\n",
       "      <td>1</td>\n",
       "    </tr>\n",
       "    <tr>\n",
       "      <th>5</th>\n",
       "      <td>106</td>\n",
       "      <td>Wheat - Mixed</td>\n",
       "      <td>1</td>\n",
       "    </tr>\n",
       "    <tr>\n",
       "      <th>6</th>\n",
       "      <td>107</td>\n",
       "      <td>All Wheat</td>\n",
       "      <td>1</td>\n",
       "    </tr>\n",
       "    <tr>\n",
       "      <th>7</th>\n",
       "      <td>201</td>\n",
       "      <td>Wheat Products</td>\n",
       "      <td>1</td>\n",
       "    </tr>\n",
       "    <tr>\n",
       "      <th>8</th>\n",
       "      <td>301</td>\n",
       "      <td>Barley</td>\n",
       "      <td>1</td>\n",
       "    </tr>\n",
       "    <tr>\n",
       "      <th>9</th>\n",
       "      <td>401</td>\n",
       "      <td>Corn</td>\n",
       "      <td>1</td>\n",
       "    </tr>\n",
       "    <tr>\n",
       "      <th>10</th>\n",
       "      <td>501</td>\n",
       "      <td>Rye</td>\n",
       "      <td>1</td>\n",
       "    </tr>\n",
       "    <tr>\n",
       "      <th>11</th>\n",
       "      <td>601</td>\n",
       "      <td>Oats</td>\n",
       "      <td>1</td>\n",
       "    </tr>\n",
       "    <tr>\n",
       "      <th>12</th>\n",
       "      <td>701</td>\n",
       "      <td>Sorghum</td>\n",
       "      <td>1</td>\n",
       "    </tr>\n",
       "    <tr>\n",
       "      <th>13</th>\n",
       "      <td>801</td>\n",
       "      <td>Soybeans</td>\n",
       "      <td>1</td>\n",
       "    </tr>\n",
       "    <tr>\n",
       "      <th>14</th>\n",
       "      <td>901</td>\n",
       "      <td>Soybean cake &amp; meal</td>\n",
       "      <td>1</td>\n",
       "    </tr>\n",
       "    <tr>\n",
       "      <th>15</th>\n",
       "      <td>902</td>\n",
       "      <td>Soybean Oil</td>\n",
       "      <td>1</td>\n",
       "    </tr>\n",
       "    <tr>\n",
       "      <th>16</th>\n",
       "      <td>1001</td>\n",
       "      <td>Flaxseed</td>\n",
       "      <td>1</td>\n",
       "    </tr>\n",
       "    <tr>\n",
       "      <th>17</th>\n",
       "      <td>1101</td>\n",
       "      <td>Linseed Oil</td>\n",
       "      <td>1</td>\n",
       "    </tr>\n",
       "    <tr>\n",
       "      <th>18</th>\n",
       "      <td>1110</td>\n",
       "      <td>Sunflowerseed Oil</td>\n",
       "      <td>1</td>\n",
       "    </tr>\n",
       "    <tr>\n",
       "      <th>19</th>\n",
       "      <td>1201</td>\n",
       "      <td>Cottonseed</td>\n",
       "      <td>1</td>\n",
       "    </tr>\n",
       "    <tr>\n",
       "      <th>20</th>\n",
       "      <td>1202</td>\n",
       "      <td>Cottonseed cake &amp; meal</td>\n",
       "      <td>1</td>\n",
       "    </tr>\n",
       "    <tr>\n",
       "      <th>21</th>\n",
       "      <td>1203</td>\n",
       "      <td>Cottonseed Oil</td>\n",
       "      <td>1</td>\n",
       "    </tr>\n",
       "    <tr>\n",
       "      <th>22</th>\n",
       "      <td>1301</td>\n",
       "      <td>Cotton- Am Pima</td>\n",
       "      <td>2</td>\n",
       "    </tr>\n",
       "    <tr>\n",
       "      <th>23</th>\n",
       "      <td>1401</td>\n",
       "      <td>Cotton- Upland 1 1/16\" &amp; over</td>\n",
       "      <td>2</td>\n",
       "    </tr>\n",
       "    <tr>\n",
       "      <th>24</th>\n",
       "      <td>1402</td>\n",
       "      <td>Cotton- Upland 1\"-1 1/16\" &amp; over</td>\n",
       "      <td>2</td>\n",
       "    </tr>\n",
       "    <tr>\n",
       "      <th>25</th>\n",
       "      <td>1403</td>\n",
       "      <td>Cotton- Upland under 1\"</td>\n",
       "      <td>2</td>\n",
       "    </tr>\n",
       "    <tr>\n",
       "      <th>26</th>\n",
       "      <td>1404</td>\n",
       "      <td>All Upland Cotton</td>\n",
       "      <td>2</td>\n",
       "    </tr>\n",
       "    <tr>\n",
       "      <th>27</th>\n",
       "      <td>1498</td>\n",
       "      <td>Rice - LG Rough</td>\n",
       "      <td>1</td>\n",
       "    </tr>\n",
       "    <tr>\n",
       "      <th>28</th>\n",
       "      <td>1499</td>\n",
       "      <td>Rice- Med, Short,Other Rough</td>\n",
       "      <td>1</td>\n",
       "    </tr>\n",
       "    <tr>\n",
       "      <th>29</th>\n",
       "      <td>1501</td>\n",
       "      <td>Rice- LG Brown</td>\n",
       "      <td>1</td>\n",
       "    </tr>\n",
       "    <tr>\n",
       "      <th>30</th>\n",
       "      <td>1502</td>\n",
       "      <td>Rice- Med,Short, Other Brown</td>\n",
       "      <td>1</td>\n",
       "    </tr>\n",
       "    <tr>\n",
       "      <th>31</th>\n",
       "      <td>1503</td>\n",
       "      <td>Rice - Long Grain, Milled</td>\n",
       "      <td>1</td>\n",
       "    </tr>\n",
       "    <tr>\n",
       "      <th>32</th>\n",
       "      <td>1504</td>\n",
       "      <td>Rice- Med,Short,Other Milled</td>\n",
       "      <td>1</td>\n",
       "    </tr>\n",
       "    <tr>\n",
       "      <th>33</th>\n",
       "      <td>1505</td>\n",
       "      <td>All Rice</td>\n",
       "      <td>1</td>\n",
       "    </tr>\n",
       "    <tr>\n",
       "      <th>34</th>\n",
       "      <td>1601</td>\n",
       "      <td>Cattle Hides - Whole - Excluding Wet Blues</td>\n",
       "      <td>3</td>\n",
       "    </tr>\n",
       "    <tr>\n",
       "      <th>35</th>\n",
       "      <td>1602</td>\n",
       "      <td>Calf Skins - Whole - Excluding Wet Blues</td>\n",
       "      <td>3</td>\n",
       "    </tr>\n",
       "    <tr>\n",
       "      <th>36</th>\n",
       "      <td>1603</td>\n",
       "      <td>Kip Skins - Whole - Excluding Wet Blues</td>\n",
       "      <td>3</td>\n",
       "    </tr>\n",
       "    <tr>\n",
       "      <th>37</th>\n",
       "      <td>1604</td>\n",
       "      <td>Cattle Hides-Cut into Croupons, etc-excl Wet B...</td>\n",
       "      <td>4</td>\n",
       "    </tr>\n",
       "    <tr>\n",
       "      <th>38</th>\n",
       "      <td>1605</td>\n",
       "      <td>Cattle Hides and Skins-other-excluding Wet Blues</td>\n",
       "      <td>5</td>\n",
       "    </tr>\n",
       "    <tr>\n",
       "      <th>39</th>\n",
       "      <td>1606</td>\n",
       "      <td>Cattle Wet Blues-Unsplit (Whole or Sided)</td>\n",
       "      <td>4</td>\n",
       "    </tr>\n",
       "    <tr>\n",
       "      <th>40</th>\n",
       "      <td>1607</td>\n",
       "      <td>Cattle Wet Blues-Grain Splits (Whole or Sided)</td>\n",
       "      <td>4</td>\n",
       "    </tr>\n",
       "    <tr>\n",
       "      <th>41</th>\n",
       "      <td>1608</td>\n",
       "      <td>Cattle Wet Blues-Splits-Excluding Grain Splits</td>\n",
       "      <td>5</td>\n",
       "    </tr>\n",
       "    <tr>\n",
       "      <th>42</th>\n",
       "      <td>1701</td>\n",
       "      <td>Fresh, Chilled, or Frozen Muscle Cuts of Beef</td>\n",
       "      <td>1</td>\n",
       "    </tr>\n",
       "    <tr>\n",
       "      <th>43</th>\n",
       "      <td>1702</td>\n",
       "      <td>Fresh, Chilled, or Frozen Muscle Cuts of Pork</td>\n",
       "      <td>1</td>\n",
       "    </tr>\n",
       "  </tbody>\n",
       "</table>\n",
       "</div>"
      ],
      "text/plain": [
       "    commodityCode                                      commodityName  unitId\n",
       "0             101                                        Wheat - HRW       1\n",
       "1             102                                        Wheat - SRW       1\n",
       "2             103                                        Wheat - HRS       1\n",
       "3             104                                      Wheat - White       1\n",
       "4             105                                      Wheat - Durum       1\n",
       "5             106                                      Wheat - Mixed       1\n",
       "6             107                                          All Wheat       1\n",
       "7             201                                     Wheat Products       1\n",
       "8             301                                             Barley       1\n",
       "9             401                                               Corn       1\n",
       "10            501                                                Rye       1\n",
       "11            601                                               Oats       1\n",
       "12            701                                            Sorghum       1\n",
       "13            801                                           Soybeans       1\n",
       "14            901                                Soybean cake & meal       1\n",
       "15            902                                        Soybean Oil       1\n",
       "16           1001                                           Flaxseed       1\n",
       "17           1101                                        Linseed Oil       1\n",
       "18           1110                                  Sunflowerseed Oil       1\n",
       "19           1201                                         Cottonseed       1\n",
       "20           1202                             Cottonseed cake & meal       1\n",
       "21           1203                                     Cottonseed Oil       1\n",
       "22           1301                                    Cotton- Am Pima       2\n",
       "23           1401                      Cotton- Upland 1 1/16\" & over       2\n",
       "24           1402                   Cotton- Upland 1\"-1 1/16\" & over       2\n",
       "25           1403                            Cotton- Upland under 1\"       2\n",
       "26           1404                                  All Upland Cotton       2\n",
       "27           1498                                    Rice - LG Rough       1\n",
       "28           1499                       Rice- Med, Short,Other Rough       1\n",
       "29           1501                                     Rice- LG Brown       1\n",
       "30           1502                       Rice- Med,Short, Other Brown       1\n",
       "31           1503                          Rice - Long Grain, Milled       1\n",
       "32           1504                       Rice- Med,Short,Other Milled       1\n",
       "33           1505                                           All Rice       1\n",
       "34           1601         Cattle Hides - Whole - Excluding Wet Blues       3\n",
       "35           1602           Calf Skins - Whole - Excluding Wet Blues       3\n",
       "36           1603            Kip Skins - Whole - Excluding Wet Blues       3\n",
       "37           1604  Cattle Hides-Cut into Croupons, etc-excl Wet B...       4\n",
       "38           1605   Cattle Hides and Skins-other-excluding Wet Blues       5\n",
       "39           1606          Cattle Wet Blues-Unsplit (Whole or Sided)       4\n",
       "40           1607     Cattle Wet Blues-Grain Splits (Whole or Sided)       4\n",
       "41           1608     Cattle Wet Blues-Splits-Excluding Grain Splits       5\n",
       "42           1701      Fresh, Chilled, or Frozen Muscle Cuts of Beef       1\n",
       "43           1702      Fresh, Chilled, or Frozen Muscle Cuts of Pork       1"
      ]
     },
     "execution_count": 2,
     "metadata": {},
     "output_type": "execute_result"
    }
   ],
   "source": [
    "REF_PATH = Path(\"C:/Users/daniel/Documents/ag_export_project/de_ag_export/ref/\")\n",
    "commodities = pd.read_parquet(Path(REF_PATH) / \"commodities.parquet\")\n",
    "commodities"
   ]
  },
  {
   "cell_type": "code",
   "execution_count": 4,
   "id": "fea13b4d",
   "metadata": {},
   "outputs": [],
   "source": [
    "co_ref = pd.read_json(Path(REF_PATH) / \"commodity_sum.json\")"
   ]
  },
  {
   "cell_type": "code",
   "execution_count": 10,
   "id": "9a754aab",
   "metadata": {
    "scrolled": true
   },
   "outputs": [],
   "source": [
    "co_cat = pd.read_excel(Path(os.sep.join([os.getcwd(),\"de_ag_dbt\",\"seeds\"])) / \"commodity_categories.xlsx\")"
   ]
  },
  {
   "cell_type": "code",
   "execution_count": 13,
   "id": "27bd2958",
   "metadata": {},
   "outputs": [
    {
     "data": {
      "text/html": [
       "<div>\n",
       "<style scoped>\n",
       "    .dataframe tbody tr th:only-of-type {\n",
       "        vertical-align: middle;\n",
       "    }\n",
       "\n",
       "    .dataframe tbody tr th {\n",
       "        vertical-align: top;\n",
       "    }\n",
       "\n",
       "    .dataframe thead th {\n",
       "        text-align: right;\n",
       "    }\n",
       "</style>\n",
       "<table border=\"1\" class=\"dataframe\">\n",
       "  <thead>\n",
       "    <tr style=\"text-align: right;\">\n",
       "      <th></th>\n",
       "      <th>commodityCode</th>\n",
       "      <th>commodityName</th>\n",
       "      <th>f0_</th>\n",
       "    </tr>\n",
       "  </thead>\n",
       "  <tbody>\n",
       "    <tr>\n",
       "      <th>0</th>\n",
       "      <td>1301</td>\n",
       "      <td>Cotton- Am Pima</td>\n",
       "      <td>12984813</td>\n",
       "    </tr>\n",
       "    <tr>\n",
       "      <th>1</th>\n",
       "      <td>801</td>\n",
       "      <td>Soybeans</td>\n",
       "      <td>855986509</td>\n",
       "    </tr>\n",
       "    <tr>\n",
       "      <th>2</th>\n",
       "      <td>301</td>\n",
       "      <td>Barley</td>\n",
       "      <td>7812551</td>\n",
       "    </tr>\n",
       "    <tr>\n",
       "      <th>3</th>\n",
       "      <td>1601</td>\n",
       "      <td>Cattle Hides - Whole - Excluding Wet Blues</td>\n",
       "      <td>638489292</td>\n",
       "    </tr>\n",
       "    <tr>\n",
       "      <th>4</th>\n",
       "      <td>1602</td>\n",
       "      <td>Calf Skins - Whole - Excluding Wet Blues</td>\n",
       "      <td>8898522</td>\n",
       "    </tr>\n",
       "  </tbody>\n",
       "</table>\n",
       "</div>"
      ],
      "text/plain": [
       "   commodityCode                               commodityName        f0_\n",
       "0           1301                             Cotton- Am Pima   12984813\n",
       "1            801                                    Soybeans  855986509\n",
       "2            301                                      Barley    7812551\n",
       "3           1601  Cattle Hides - Whole - Excluding Wet Blues  638489292\n",
       "4           1602    Calf Skins - Whole - Excluding Wet Blues    8898522"
      ]
     },
     "execution_count": 13,
     "metadata": {},
     "output_type": "execute_result"
    }
   ],
   "source": [
    "co_ref.head()"
   ]
  },
  {
   "cell_type": "code",
   "execution_count": 14,
   "id": "809f7aa2",
   "metadata": {},
   "outputs": [
    {
     "data": {
      "text/html": [
       "<div>\n",
       "<style scoped>\n",
       "    .dataframe tbody tr th:only-of-type {\n",
       "        vertical-align: middle;\n",
       "    }\n",
       "\n",
       "    .dataframe tbody tr th {\n",
       "        vertical-align: top;\n",
       "    }\n",
       "\n",
       "    .dataframe thead th {\n",
       "        text-align: right;\n",
       "    }\n",
       "</style>\n",
       "<table border=\"1\" class=\"dataframe\">\n",
       "  <thead>\n",
       "    <tr style=\"text-align: right;\">\n",
       "      <th></th>\n",
       "      <th>Name</th>\n",
       "      <th>Total</th>\n",
       "      <th>Category</th>\n",
       "      <th>Category Total Marker</th>\n",
       "    </tr>\n",
       "  </thead>\n",
       "  <tbody>\n",
       "    <tr>\n",
       "      <th>0</th>\n",
       "      <td>Cotton- Am Pima</td>\n",
       "      <td>12984813</td>\n",
       "      <td>Cotton</td>\n",
       "      <td>NaN</td>\n",
       "    </tr>\n",
       "    <tr>\n",
       "      <th>1</th>\n",
       "      <td>Soybeans</td>\n",
       "      <td>855986509</td>\n",
       "      <td>Soybeans</td>\n",
       "      <td>NaN</td>\n",
       "    </tr>\n",
       "    <tr>\n",
       "      <th>2</th>\n",
       "      <td>Barley</td>\n",
       "      <td>7812551</td>\n",
       "      <td>Barley</td>\n",
       "      <td>NaN</td>\n",
       "    </tr>\n",
       "    <tr>\n",
       "      <th>3</th>\n",
       "      <td>Cattle Hides - Whole - Excluding Wet Blues</td>\n",
       "      <td>638489292</td>\n",
       "      <td>Hides or Skins</td>\n",
       "      <td>NaN</td>\n",
       "    </tr>\n",
       "    <tr>\n",
       "      <th>4</th>\n",
       "      <td>Calf Skins - Whole - Excluding Wet Blues</td>\n",
       "      <td>8898522</td>\n",
       "      <td>Hides or Skins</td>\n",
       "      <td>NaN</td>\n",
       "    </tr>\n",
       "  </tbody>\n",
       "</table>\n",
       "</div>"
      ],
      "text/plain": [
       "                                         Name      Total        Category  \\\n",
       "0                             Cotton- Am Pima   12984813          Cotton   \n",
       "1                                    Soybeans  855986509        Soybeans   \n",
       "2                                      Barley    7812551          Barley   \n",
       "3  Cattle Hides - Whole - Excluding Wet Blues  638489292  Hides or Skins   \n",
       "4    Calf Skins - Whole - Excluding Wet Blues    8898522  Hides or Skins   \n",
       "\n",
       "  Category Total Marker  \n",
       "0                   NaN  \n",
       "1                   NaN  \n",
       "2                   NaN  \n",
       "3                   NaN  \n",
       "4                   NaN  "
      ]
     },
     "execution_count": 14,
     "metadata": {},
     "output_type": "execute_result"
    }
   ],
   "source": [
    "co_cat.head()"
   ]
  },
  {
   "cell_type": "code",
   "execution_count": 16,
   "id": "6de02084",
   "metadata": {},
   "outputs": [],
   "source": [
    "co = co_ref[[\"commodityCode\", \"commodityName\"]].merge(\n",
    "    right=co_cat,\n",
    "    left_on=\"commodityName\",\n",
    "    right_on=\"Name\",\n",
    "    how=\"outer\")"
   ]
  },
  {
   "cell_type": "code",
   "execution_count": 22,
   "id": "b989d819",
   "metadata": {},
   "outputs": [],
   "source": [
    "co.drop(columns=[\"Name\", \"Total\"], inplace=True)"
   ]
  },
  {
   "cell_type": "code",
   "execution_count": 24,
   "id": "935ecd52",
   "metadata": {},
   "outputs": [],
   "source": [
    "co[\"Category\"] = co[\"Category\"].replace({\"Oil\": \"Grain/Seed Oil\"})"
   ]
  },
  {
   "cell_type": "code",
   "execution_count": 26,
   "id": "9f2b87d7",
   "metadata": {},
   "outputs": [],
   "source": [
    "co.to_csv(Path(os.sep.join([os.getcwd(),\"de_ag_dbt\",\"seeds\"])) / \"commodity_categories.csv\", index=False)"
   ]
  }
 ],
 "metadata": {
  "kernelspec": {
   "display_name": "Python 3 (ipykernel)",
   "language": "python",
   "name": "python3"
  },
  "language_info": {
   "codemirror_mode": {
    "name": "ipython",
    "version": 3
   },
   "file_extension": ".py",
   "mimetype": "text/x-python",
   "name": "python",
   "nbconvert_exporter": "python",
   "pygments_lexer": "ipython3",
   "version": "3.10.10"
  }
 },
 "nbformat": 4,
 "nbformat_minor": 5
}
